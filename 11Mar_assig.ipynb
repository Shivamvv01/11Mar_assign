{
 "cells": [
  {
   "cell_type": "markdown",
   "id": "6f2144b8-969d-454a-875a-c3c5fd7a1dd4",
   "metadata": {},
   "source": [
    "Q1: What is the difference between a t-test and a z-test? Provide an example scenario where you would\n",
    "use each type of test."
   ]
  },
  {
   "cell_type": "markdown",
   "id": "5b568b73-f97e-4171-811f-a85c047b7ebb",
   "metadata": {},
   "source": [
    "T-test:\n",
    "\n",
    "Sample Size: T-tests are generally used when the sample size is small (typically less than 30) and the population standard deviation is unknown.\n",
    "Population Standard Deviation: In a t-test, the population standard deviation is estimated from the sample data.\n",
    "Formula: The t-test formula involves the sample mean, the hypothesized population mean, the sample standard deviation, and the sample size. It accounts for the uncertainty introduced by using the sample standard deviation.\n",
    "Example Scenario: You want to test whether the average height of a sample of students differs significantly from the average height of the entire student population.\n",
    "Z-test:\n",
    "\n",
    "Sample Size: Z-tests are appropriate when the sample size is large (typically n > 30) and the population standard deviation is known.\n",
    "Population Standard Deviation: In a z-test, the population standard deviation is assumed to be known and is used in the calculations.\n",
    "Formula: The z-test formula involves the sample mean, the hypothesized population mean, the population standard deviation, and the sample size. It is more straightforward because the population standard deviation is a constant.\n",
    "Example Scenario: You have information about the IQ scores of an entire population, and you want to test whether a sample of individuals from this population has a significantly different average IQ.\n",
    "Example Scenarios:\n",
    "\n",
    "T-test Scenario:\n",
    "\n",
    "Question: Is there a significant difference in the average response time between two groups of participants (Group A and Group B) after a training intervention?\n",
    "Test: Conduct a t-test to compare the means of response times in Group A and Group B. Use a t-test because you are likely dealing with small sample sizes, and you don't know the population standard deviation.\n",
    "Z-test Scenario:\n",
    "\n",
    "Question: Does the average monthly expenditure of customers at a supermarket differ from the known population average expenditure?\n",
    "Test: Perform a z-test to compare the sample mean expenditure to the known population mean. Since you have information about the entire population's standard deviation, a z-test is appropriate for a large sample size."
   ]
  },
  {
   "cell_type": "markdown",
   "id": "3653db07-4869-40c1-9625-055800ec936e",
   "metadata": {},
   "source": [
    "Q2: Differentiate between one-tailed and two-tailed tests."
   ]
  },
  {
   "cell_type": "markdown",
   "id": "e2135a16-9f4b-4016-8daf-c32a53aeac89",
   "metadata": {},
   "source": [
    "One-Tailed Test:\n",
    "\n",
    "Directional Hypothesis: A one-tailed test is used when there is a specific directional hypothesis about the relationship between variables. In other words, the researcher predicts the direction of the effect (e.g., greater than, less than).\n",
    "Critical Region: The critical region is located on only one side of the distribution curve. It represents extreme values in the predicted direction.\n",
    "Alpha Level: The alpha level (significance level) is typically divided by 2 to account for one tail. For example, if the significance level is set at 0.05, the critical region might include the top (or bottom) 5% of the distribution.\n",
    "Example: Testing whether a new drug has a positive effect on increasing reaction time.\n",
    "Two-Tailed Test:\n",
    "\n",
    "Non-directional Hypothesis: A two-tailed test is used when there is no specific directional hypothesis, or when the researcher wants to detect any significant difference, regardless of the direction.\n",
    "Critical Region: The critical region is located on both sides of the distribution curve, capturing extreme values in either direction (greater than or less than).\n",
    "Alpha Level: The alpha level is not divided, as the critical region is split between both tails. If the significance level is set at 0.05, each tail might include 2.5% of the distribution.\n",
    "Example: Investigating whether there is a difference in test scores between two groups without specifying in which direction the difference might occur."
   ]
  },
  {
   "cell_type": "markdown",
   "id": "d61deb59-e924-42b8-9e46-c4dc6f6e665d",
   "metadata": {},
   "source": [
    "Q3: Explain the concept of Type 1 and Type 2 errors in hypothesis testing. Provide an example scenario for\n",
    "each type of error."
   ]
  },
  {
   "cell_type": "markdown",
   "id": "fed8d72b-42ec-4230-8714-ee3559ce3db1",
   "metadata": {},
   "source": [
    "Type 1 Error:\n",
    "\n",
    "Type 1 error, also known as a false positive, occurs when the null hypothesis is rejected even though it is true. It means concluding that there is an effect or relationship when, in reality, there is no such effect or relationship. Type 1 error is associated with the significance level (α) of the test, which determines the probability of making this error. Example scenario for Type 1 error:\n",
    "\n",
    "A drug company conducts a clinical trial to test the effectiveness of a new drug for reducing blood pressure. The null hypothesis is that the drug has no effect on blood pressure. However, due to random variability in the data or an insufficient sample size, the study incorrectly rejects the null hypothesis and concludes that the drug is effective in reducing blood pressure, leading to a Type 1 error. Type 2 Error:\n",
    "\n",
    "Type 2 error, also known as a false negative, occurs when the null hypothesis is not rejected even though it is false. It means failing to detect an effect or relationship when, in reality, there is an effect or relationship. Type 2 error is associated with the power of the test, which is the probability of correctly rejecting the null hypothesis when it is false. Example scenario for Type 2 error:\n",
    "\n",
    "A company develops a new advertising campaign with the aim of increasing sales. The null hypothesis is that the new campaign has no impact on sales. However, after running the campaign and collecting data, the company fails to reject the null hypothesis and concludes that the campaign does not have a significant impact on sales. In reality, the campaign does increase sales, but the study fails to detect this effect, resulting in a Type 2 error. It's important to note that Type 1 and Type 2 errors are inversely related. By decreasing the probability of one type of error, the probability of the other type of error increases. The balance between these errors is influenced by the significance level (α) and the power of the test, which need to be appropriately chosen based on the specific context and requirements of the study."
   ]
  },
  {
   "cell_type": "markdown",
   "id": "a34719d1-12a2-4c51-a562-ceca416c3054",
   "metadata": {},
   "source": [
    "Q4: Explain Bayes's theorem with an example."
   ]
  },
  {
   "cell_type": "markdown",
   "id": "03c1adb2-584d-4d63-82fe-bcb2517f543c",
   "metadata": {},
   "source": [
    "Bayes's theorem is a fundamental concept in probability theory that calculates the probability of an event based on prior knowledge or information. It provides a way to update our beliefs or probabilities when new evidence is obtained.\n",
    "\n",
    "The formula for Bayes's theorem is:\n",
    "\n",
    "P(A|B) = (P(B|A) * P(A)) / P(B)\n",
    "\n",
    "where: P(A|B) is the probability of event A given event B has occurred, P(B|A) is the probability of event B given event A has occurred, P(A) is the prior probability of event A, P(B) is the prior probability of event B.\n",
    "\n",
    "Example: Let's say we have a medical test to detect a certain disease. The test has a 95% accuracy rate, meaning it correctly identifies the disease in 95% of cases where the patient has the disease. The disease is quite rare, occurring in 1% of the population. If a randomly selected person tests positive for the disease, we want to calculate the probability that the person actually has the disease.\n",
    "\n",
    "Using Bayes's theorem: Let A be the event of having the disease, and B be the event of testing positive. P(A|B) represents the probability of having the disease given a positive test result.\n",
    "\n",
    "P(A) = 0.01 (prior probability of having the disease) P(B|A) = 0.95 (accuracy rate of the test) P(B) = P(B|A) * P(A) + P(B|not A) * P(not A) = 0.95 * 0.01 + 0.05 * 0.99 = 0.0594\n",
    "\n",
    "Now we can calculate P(A|B) using Bayes's theorem:\n",
    "\n",
    "P(A|B) = (P(B|A) * P(A)) / P(B) = (0.95 * 0.01) / 0.0594 ≈ 0.1603\n",
    "\n",
    "Therefore, given a positive test result, the probability of actually having the disease is approximately 16.03%. Bayes's theorem allows us to update our initial belief (prior probability) based on the new evidence (test result) and obtain a more accurate estimate of the probability."
   ]
  },
  {
   "cell_type": "markdown",
   "id": "1866fc00-f074-4c0a-9c33-e283204954cf",
   "metadata": {},
   "source": [
    "Q5: What is a confidence interval? How to calculate the confidence interval, explain with an example."
   ]
  },
  {
   "cell_type": "markdown",
   "id": "63ee873e-8395-468f-a595-bbefe7b1166a",
   "metadata": {},
   "source": [
    "A confidence interval is a range of values that provides an estimate of the true population parameter with a certain level of confidence. It quantifies the uncertainty associated with sample data and provides a range within which the true population parameter is likely to fall.\n",
    "\n",
    "To calculate a confidence interval, you need three components: the sample data, the desired level of confidence, and a suitable statistical formula. The most common formula for calculating a confidence interval for the population mean is:\n",
    "\n",
    "Confidence Interval = Sample Mean ± (Critical Value × Standard Error)\n",
    "\n",
    "The critical value is determined based on the desired level of confidence and the distribution of the data (e.g., t-distribution for small samples or z-distribution for large samples). The standard error is a measure of the variability of the sample mean.\n",
    "\n",
    "For example, suppose you want to estimate the average height of a population. You collect a sample of 100 individuals and calculate their average height as 170 cm with a standard deviation of 5 cm. You decide to calculate a 95% confidence interval. Using the z-distribution and a critical value of 1.96 (corresponding to a 95% confidence level), and the standard error calculated as the sample standard deviation divided by the square root of the sample size (5 / √100), you can calculate the confidence interval as:\n",
    "\n",
    "Confidence Interval = 170 ± (1.96 × 5/√100) = 170 ± 0.98\n",
    "\n",
    "Therefore, the 95% confidence interval for the average height of the population is (169.02, 170.98) cm. This means that with 95% confidence, the true population mean height is likely to be within this interval."
   ]
  },
  {
   "cell_type": "markdown",
   "id": "12a7d945-9a30-4176-afbf-5f262196303f",
   "metadata": {},
   "source": [
    "Q6. Use Bayes' Theorem to calculate the probability of an event occurring given prior knowledge of the\n",
    "event's probability and new evidence. Provide a sample problem and solution."
   ]
  },
  {
   "cell_type": "markdown",
   "id": "c51fb5d9-4c3a-4397-ad0c-8becc88b30bf",
   "metadata": {},
   "source": [
    "Problem: Suppose there is a rare disease that affects 1% of the population. A medical test has been developed to detect this disease, and the test is 95% accurate in identifying positive cases and 90% accurate in identifying negative cases. If a person tests positive, what is the probability that they actually have the disease?\n",
    "\n",
    "Solution: Let's use the following notations: D = Event that a person has the disease D' = Event that a person does not have the disease T = Event that the test result is positive T' = Event that the test result is negative\n",
    "\n",
    "We are given: P(D) = 0.01 (prior probability of having the disease) P(D') = 0.99 (prior probability of not having the disease) P(T|D) = 0.95 (probability of a positive test result given that the person has the disease) P(T|D') = 0.10 (probability of a positive test result given that the person does not have the disease)\n",
    "\n",
    "We need to find: P(D|T) = Probability of having the disease given a positive test result\n",
    "\n",
    "Using Bayes' Theorem: P(D|T) = (P(T|D) * P(D)) / P(T)\n",
    "\n",
    "To calculate P(T), we can use the law of total probability: P(T) = P(T|D) * P(D) + P(T|D') * P(D')\n",
    "\n",
    "Substituting the given values into the equations, we can calculate the probability:\n",
    "\n",
    "P(T) = (0.95 * 0.01) + (0.10 * 0.99) = 0.1045\n",
    "\n",
    "P(D|T) = (0.95 * 0.01) / 0.1045 ≈ 0.0906\n",
    "\n",
    "Therefore, the probability that a person actually has the disease given a positive test result is approximately 0.0906 or 9.06%.\n",
    "\n",
    "It's important to note that even though the test is 95% accurate, the probability of having the disease after a positive test result is relatively low due to the low prevalence of the disease in the population. This highlights the significance of considering both the test accuracy and the prior probability when interpreting the results."
   ]
  },
  {
   "cell_type": "markdown",
   "id": "cc197d8b-e7c5-4d4d-8761-2300d906ca07",
   "metadata": {},
   "source": [
    "Q7. Calculate the 95% confidence interval for a sample of data with a mean of 50 and a standard deviation\n",
    "of 5. Interpret the results."
   ]
  },
  {
   "cell_type": "markdown",
   "id": "15f1fb13-92b7-42fa-b494-c4fa04e40461",
   "metadata": {},
   "source": [
    "To calculate the 95% confidence interval for a sample of data, we can use the formula:\n",
    "\n",
    "Confidence Interval = (Sample Mean) ± (Critical Value) * (Standard Error)\n",
    "\n",
    "The critical value is determined based on the desired level of confidence (in this case, 95%), and the standard error is calculated using the standard deviation and the sample size.\n",
    "\n",
    "Given: Sample Mean = 50 Standard Deviation = 5\n",
    "\n",
    "To calculate the confidence interval, we also need the sample size. Let's assume a sample size of 100.\n",
    "\n",
    "Using the formula, we can calculate the standard error: Standard Error = Standard Deviation / sqrt(Sample Size) = 5 / sqrt(100) = 5 / 10 = 0.5\n",
    "\n",
    "Next, we determine the critical value associated with a 95% confidence level. Since the sample size is large (100), we can use the Z-table to find the critical value. For a 95% confidence level, the critical value is approximately 1.96.\n",
    "\n",
    "Now we can calculate the confidence interval: Confidence Interval = 50 ± 1.96 * 0.5 Confidence Interval = 50 ± 0.98 Confidence Interval = (49.02, 50.98)\n",
    "\n",
    "Interpretation: The 95% confidence interval for the population mean, based on this sample data, is (49.02, 50.98). This means that we can be 95% confident that the true population mean falls within this range. In other words, if we were to repeat the sampling process multiple times and calculate the confidence interval each time, approximately 95% of the intervals would contain the true population mean.\n",
    "\n",
    "It's important to note that the interpretation of the confidence interval does not imply that there is a 95% probability that the true population mean falls within the interval. The confidence level refers to the long-term frequency of intervals that would contain the true population mean, based on repeated sampling."
   ]
  },
  {
   "cell_type": "markdown",
   "id": "b13c45b0-1a03-451a-8ab7-69cbbd21927c",
   "metadata": {},
   "source": [
    "Q8. What is the margin of error in a confidence interval? How does sample size affect the margin of error?\n",
    "Provide an example of a scenario where a larger sample size would result in a smaller margin of error."
   ]
  },
  {
   "cell_type": "markdown",
   "id": "a90fec62-2865-48d5-809d-b79de47a67a8",
   "metadata": {},
   "source": [
    "The margin of error in a confidence interval is the range of values that is added to and subtracted from the point estimate to create an interval that captures the true population parameter with a specified level of confidence. It represents the amount of uncertainty associated with the estimate.\n",
    "\n",
    "The margin of error is influenced by several factors, including the desired level of confidence and the variability of the data. However, one significant factor is the sample size. As the sample size increases, the margin of error decreases.\n",
    "\n",
    "A larger sample size reduces the margin of error because it provides more information about the population. With a larger sample, the estimate of the population parameter becomes more precise, resulting in a narrower confidence interval and a smaller margin of error.\n",
    "\n",
    "For example, let's consider a scenario where we want to estimate the average height of students in a university. If we take a small sample of 20 students, the margin of error might be around 2 inches. However, if we increase the sample size to 200 students, the margin of error may reduce to around 0.5 inches. The larger sample size allows for a more accurate estimate of the population mean, resulting in a smaller margin of error and a narrower confidence interval."
   ]
  },
  {
   "cell_type": "markdown",
   "id": "cab9d454-416a-4d7d-88dd-f2620bf99093",
   "metadata": {},
   "source": [
    "Q9. Calculate the z-score for a data point with a value of 75, a population mean of 70, and a population\n",
    "standard deviation of 5. Interpret the results."
   ]
  },
  {
   "cell_type": "markdown",
   "id": "ab1016d6-67df-406f-94d0-24a92b18a4a7",
   "metadata": {},
   "source": [
    "To calculate the z-score, we can use the formula:\n",
    "\n",
    "z = (x - μ) / σ\n",
    "\n",
    "Where: x is the data point value (75 in this case) μ is the population mean (70 in this case) σ is the population standard deviation (5 in this case)\n",
    "\n",
    "Plugging in the values, we get:\n",
    "\n",
    "z = (75 - 70) / 5 z = 1\n",
    "\n",
    "Interpreting the result, a z-score of 1 means that the data point (75) is 1 standard deviation above the population mean (70). This indicates that the data point is relatively higher than the average value in the population. The positive sign of the z-score indicates that the data point is above the mean. The magnitude of the z-score of 1 suggests that it is moderately deviating from the mean."
   ]
  },
  {
   "cell_type": "markdown",
   "id": "8b6efc77-9a28-4ce4-972e-bfbd443f5779",
   "metadata": {},
   "source": [
    "Q10. In a study of the effectiveness of a new weight loss drug, a sample of 50 participants lost an average\n",
    "of 6 pounds with a standard deviation of 2.5 pounds. Conduct a hypothesis test to determine if the drug is\n",
    "significantly effective at a 95% confidence level using a t-test."
   ]
  },
  {
   "cell_type": "markdown",
   "id": "7906a68c-810f-4306-bc9b-bda5ba05cfae",
   "metadata": {},
   "source": [
    "To conduct a hypothesis test to determine if the weight loss drug is significantly effective, we can follow these steps:\n",
    "\n",
    "Step 1: State the null and alternative hypotheses: Null Hypothesis (H0): The weight loss drug is not significantly effective (mean weight loss = 0). Alternative Hypothesis (Ha): The weight loss drug is significantly effective (mean weight loss ≠ 0).\n",
    "\n",
    "Step 2: Set the significance level (α): The significance level is given as a 95% confidence level, which corresponds to α = 0.05.\n",
    "\n",
    "Step 3: Compute the test statistic: We will use a t-test since the population standard deviation is unknown. The formula for the t-statistic is: t = (x̄ - μ) / (s / √n) where x̄ is the sample mean (6 pounds), μ is the population mean (0), s is the sample standard deviation (2.5 pounds), and n is the sample size (50).\n",
    "\n",
    "Step 4: Determine the critical value: We will use a t-distribution and degrees of freedom (df) = n - 1. For a two-tailed test and α = 0.05, the critical values are t-critical = ±2.009.\n",
    "\n",
    "Step 5: Compare the test statistic with the critical value: If the test statistic falls outside the critical value range, we reject the null hypothesis. Otherwise, we fail to reject the null hypothesis.\n",
    "\n",
    "Step 6: Interpret the results: If the null hypothesis is rejected, it suggests that the weight loss drug is significantly effective. If the null hypothesis is not rejected, it suggests that there is not enough evidence to conclude that the weight loss drug is significantly effective.\n",
    "\n",
    "To perform the calculations and conduct the hypothesis test in Python, you can use the scipy.stats module. Here's an example code snippet:"
   ]
  },
  {
   "cell_type": "code",
   "execution_count": 1,
   "id": "472caaed-8a89-426b-a7d3-90240d2dd2b1",
   "metadata": {},
   "outputs": [
    {
     "name": "stdout",
     "output_type": "stream",
     "text": [
      "Reject the null hypothesis .The weight loss drug is significantly effective .\n"
     ]
    }
   ],
   "source": [
    "import scipy.stats as stats\n",
    "\n",
    "sample_mean=6\n",
    "sample_std=2.5\n",
    "sample_size=50\n",
    "\n",
    "null_mean=0\n",
    "\n",
    "test_statistic=(sample_mean-null_mean)/(sample_std/(sample_size**0.5))\n",
    "\n",
    "t_critical=stats.t.ppf(1-0.05/2,df=sample_size-1)\n",
    "\n",
    "if test_statistic>t_critical or test_statistic<-t_critical:\n",
    "    print(\"Reject the null hypothesis .The weight loss drug is significantly effective .\")\n",
    "    \n",
    "else :\n",
    "    print(\"Fail to reject the null hypothesis . There is not enough evidence to conclude that the weight loss drug is sign\")"
   ]
  },
  {
   "cell_type": "markdown",
   "id": "183f0599-d173-43ed-89e1-6e781245c6ae",
   "metadata": {},
   "source": [
    "Q11. In a survey of 500 people, 65% reported being satisfied with their current job. Calculate the 95%\n",
    "confidence interval for the true proportion of people who are satisfied with their job."
   ]
  },
  {
   "cell_type": "code",
   "execution_count": 2,
   "id": "6fc095c4-e821-4bf4-bea3-d5d095327be1",
   "metadata": {},
   "outputs": [
    {
     "name": "stdout",
     "output_type": "stream",
     "text": [
      "The 95% confidence interval for the proportion of people who are satisfied with their job is (60.82%,69.18%)\n"
     ]
    }
   ],
   "source": [
    "import math \n",
    "\n",
    "p=0.65\n",
    "n=500\n",
    "z_alpha=1.96\n",
    "\n",
    "se=math.sqrt((p*(1-p))/n)\n",
    "\n",
    "me=z_alpha*se\n",
    "\n",
    "lower_bound=p-me\n",
    "upper_bound=p+me\n",
    "\n",
    "print(f\"The 95% confidence interval for the proportion of people who are satisfied with their job is ({lower_bound*100:.2f}%,{upper_bound*100:.2f}%)\")"
   ]
  },
  {
   "cell_type": "markdown",
   "id": "e07b8fdd-041d-4c2a-9ff1-32392cd37ae9",
   "metadata": {},
   "source": [
    "Q12. A researcher is testing the effectiveness of two different teaching methods on student performance.\n",
    "Sample A has a mean score of 85 with a standard deviation of 6, while sample B has a mean score of 82\n",
    "with a standard deviation of 5. Conduct a hypothesis test to determine if the two teaching methods have a\n",
    "significant difference in student performance using a t-test with a significance level of 0.01."
   ]
  },
  {
   "cell_type": "markdown",
   "id": "932f1415-788f-4918-bc4e-8257d4645233",
   "metadata": {},
   "source": [
    "Step 1: State the null and alternative hypotheses: H0: There is no significant difference in student performance between the two teaching methods. Ha: There is a significant difference in student performance between the two teaching methods.\n",
    "\n",
    "Step 2: Set the significance level (α): The significance level (α) is given as 0.01.\n",
    "\n",
    "Step 3: Compute the test statistic: Using the formula for the two-sample t-test:\n",
    "\n",
    "t = (mean1 - mean2) / sqrt((s1^2/n1) + (s2^2/n2))\n",
    "\n",
    "Given: mean1 = 85 mean2 = 82 s1 = 6 s2 = 5 n1 = 30 n2 = 30\n",
    "\n",
    "Calculating the values: t = (85 - 82) / sqrt((6^2/30) + (5^2/30)) = 3 / sqrt(0.72 + 0.55) = 3 / sqrt(1.27) ≈ 2.661\n",
    "\n",
    "Step 4: Determine the critical value: Since the test is a two-tailed test and the significance level is 0.01, we need to find the critical value that splits the alpha level evenly into both tails. Using a t-distribution table or statistical software, the critical value for a two-tailed test with a significance level of 0.01 and degrees of freedom equal to the sum of both sample sizes minus two (df = n1 + n2 - 2 = 30 + 30 - 2 = 58) is approximately ±2.660.\n",
    "\n",
    "Step 5: Compare the test statistic with the critical value: The absolute value of the test statistic (2.661) is greater than the critical value (±2.660). Therefore, we reject the null hypothesis.\n",
    "\n",
    "Step 6: Draw a conclusion: Based on the hypothesis test, we have sufficient evidence to conclude that there is a significant difference in student performance between the two teaching methods at a significance level of 0.01.\n",
    "\n",
    "In summary, the statistical analysis suggests that the two teaching methods have a significant difference in student performance."
   ]
  },
  {
   "cell_type": "markdown",
   "id": "3b0dada9-197e-4f17-915c-ad6abc3f06c0",
   "metadata": {},
   "source": [
    "Q13. A population has a mean of 60 and a standard deviation of 8. A sample of 50 observations has a mean\n",
    "of 65. Calculate the 90% confidence interval for the true population mean."
   ]
  },
  {
   "cell_type": "markdown",
   "id": "fb6c7312-3f2b-44ca-9e94-477851f4c87c",
   "metadata": {},
   "source": [
    "To calculate the 90% confidence interval for the true population mean, we can use the following formula:\n",
    "\n",
    "Confidence Interval = sample mean ± (critical value * standard error)\n",
    "\n",
    "Step 1: Given information: Population mean (μ) = 60 Population standard deviation (σ) = 8 Sample size (n) = 50 Sample mean (x̄) = 65\n",
    "\n",
    "Step 2: Calculate the standard error: The standard error (SE) represents the standard deviation of the sample mean and is calculated as:\n",
    "\n",
    "SE = σ / sqrt(n)\n",
    "\n",
    "SE = 8 / sqrt(50)\n",
    "\n",
    "Step 3: Determine the critical value: For a 90% confidence interval, we need to find the critical value corresponding to a 90% confidence level. Since the sample size is large (n > 30), we can use the z-distribution and the critical value associated with a 90% confidence level is approximately 1.645.\n",
    "\n",
    "Step 4: Calculate the margin of error: The margin of error (ME) is the product of the critical value and the standard error:\n",
    "\n",
    "ME = critical value * SE\n",
    "\n",
    "ME = 1.645 * (8 / sqrt(50))\n",
    "\n",
    "Step 5: Calculate the confidence interval: The confidence interval is calculated by adding and subtracting the margin of error from the sample mean:\n",
    "\n",
    "Confidence Interval = x̄ ± ME\n",
    "\n",
    "Confidence Interval = 65 ± ME\n",
    "\n",
    "Substituting the value of ME from Step 4:\n",
    "\n",
    "Confidence Interval = 65 ± 1.645 * (8 / sqrt(50))\n",
    "\n",
    "Step 6: Calculate the values of the confidence interval: Using a calculator or software to evaluate the expression, we find:\n",
    "\n",
    "Confidence Interval ≈ 65 ± 1.839\n",
    "\n",
    "Step 7: Write the final answer: The 90% confidence interval for the true population mean is approximately (63.161, 66.839).\n",
    "\n",
    "Therefore, we can be 90% confident that the true population mean falls within this interval."
   ]
  },
  {
   "cell_type": "markdown",
   "id": "91f01738-8ce8-4ab3-8d5b-f91f7a802ae6",
   "metadata": {},
   "source": [
    "Q14. In a study of the effects of caffeine on reaction time, a sample of 30 participants had an average\n",
    "reaction time of 0.25 seconds with a standard deviation of 0.05 seconds. Conduct a hypothesis test to\n",
    "determine if the caffeine has a significant effect on reaction time at a 90% confidence level using a t-test."
   ]
  },
  {
   "cell_type": "markdown",
   "id": "dc4a99fc-66e0-4eda-9969-1a6ea6370d6d",
   "metadata": {},
   "source": [
    "Sample mean (x̄) = 0.25 seconds Sample standard deviation (s) = 0.05 seconds Sample size (n) = 30 Population mean (μ) = 0.3 seconds Significance level (α) = 0.10 (90% confidence level)\n",
    "\n",
    "Step 1: State the null and alternative hypotheses: H0: Caffeine has no significant effect on reaction time. (μ = 0.3) Ha: Caffeine has a significant effect on reaction time. (μ ≠ 0.3)\n",
    "\n",
    "Step 2: Set the significance level (α): The significance level (α) is given as 0.10 (corresponding to a 90% confidence level).\n",
    "\n",
    "Step 3: Calculate the test statistic: The test statistic for a one-sample t-test is calculated using the formula:\n",
    "\n",
    "t = (sample mean - population mean) / (sample standard deviation / sqrt(sample size))\n",
    "\n",
    "Calculating the test statistic: t = (0.25 - 0.3) / (0.05 / sqrt(30))\n",
    "\n",
    "t = -0.05 / (0.05 / sqrt(30))\n",
    "\n",
    "t = -0.05 / (0.05 / 5.48)\n",
    "\n",
    "t = -0.05 / 0.009118\n",
    "\n",
    "t ≈ -5.47\n",
    "\n",
    "Step 4: Determine the critical value: For a two-tailed t-test with a 90% confidence level and 29 degrees of freedom (n - 1 = 30 - 1 = 29), the critical values are ±1.699.\n",
    "\n",
    "Step 5: Compare the test statistic with the critical value: The absolute value of the test statistic (|t|) is 5.47, which is greater than the critical value of 1.699. Therefore, |t| > 1.699.\n",
    "\n",
    "Step 6: Draw a conclusion: Since the absolute value of the test statistic is greater than the critical value (|t| > 1.699), we reject the null hypothesis. We can conclude that caffeine has a significant effect on reaction time.\n",
    "\n",
    "In summary, at a 90% confidence level, the hypothesis test suggests that caffeine has a significant effect on reaction time based on the given sample data.\n",
    "\n",
    "Please note that the critical value of 1.699 is an approximation obtained from a t-distribution table. If you have access to statistical software or a calculator, it is recommended to use the exact critical value for better precision."
   ]
  }
 ],
 "metadata": {
  "kernelspec": {
   "display_name": "Python 3 (ipykernel)",
   "language": "python",
   "name": "python3"
  },
  "language_info": {
   "codemirror_mode": {
    "name": "ipython",
    "version": 3
   },
   "file_extension": ".py",
   "mimetype": "text/x-python",
   "name": "python",
   "nbconvert_exporter": "python",
   "pygments_lexer": "ipython3",
   "version": "3.10.8"
  }
 },
 "nbformat": 4,
 "nbformat_minor": 5
}
